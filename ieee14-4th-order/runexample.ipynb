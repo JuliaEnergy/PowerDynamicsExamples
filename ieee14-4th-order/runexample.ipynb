{
 "cells": [
  {
   "outputs": [],
   "cell_type": "code",
   "source": [
    "using PowerDynamics: read_powergrid, Json, SlackAlgebraic, FourthOrderEq, PQAlgebraic, StaticLine, PowerGrid, Inc, find_operationpoint, Perturbation, LineFault, simulate\n",
    "\n",
    "include(\"plotting.jl\")\n",
    "\n",
    "powergrid = read_powergrid(\"ieee14-4th-order.json\", Json)\n",
    "operationpoint = find_operationpoint(powergrid)"
   ],
   "metadata": {},
   "execution_count": null
  },
  {
   "outputs": [],
   "cell_type": "markdown",
   "source": [
    "simulating a frequency perturbation at node 1"
   ],
   "metadata": {}
  },
  {
   "outputs": [],
   "cell_type": "code",
   "source": [
    "solution1 = simulate(Perturbation(1, :ω, Inc(0.2)), powergrid, operationpoint, timespan = (0.0,0.3))\n",
    "plot1 = create_plot(solution1)\n",
    "savefig(plot1, \"ieee14-4th-order-frequency-perturbation.pdf\")\n",
    "display(plot1)"
   ],
   "metadata": {},
   "execution_count": null
  },
  {
   "outputs": [],
   "cell_type": "markdown",
   "source": [
    "simulating a tripped line between node 1 and 5"
   ],
   "metadata": {}
  },
  {
   "outputs": [],
   "cell_type": "code",
   "source": [
    "solution2 = simulate(LineFault(from=1,to=5), powergrid, operationpoint, timespan = (0.0,100.0))\n",
    "plot2 = create_plot(solution2)\n",
    "savefig(plot2, \"ieee14-4th-order-line-tripping.pdf\")\n",
    "display(plot2)"
   ],
   "metadata": {},
   "execution_count": null
  },
  {
   "outputs": [],
   "cell_type": "markdown",
   "source": [
    "*This notebook was generated using [Literate.jl](https://github.com/fredrikekre/Literate.jl).*"
   ],
   "metadata": {}
  }
 ],
 "nbformat_minor": 3,
 "metadata": {
  "language_info": {
   "file_extension": ".jl",
   "mimetype": "application/julia",
   "name": "julia",
   "version": "1.2.0"
  },
  "kernelspec": {
   "name": "julia-1.2",
   "display_name": "Julia 1.2.0",
   "language": "julia"
  }
 },
 "nbformat": 4
}
