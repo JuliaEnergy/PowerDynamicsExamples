{
 "cells": [
  {
   "outputs": [],
   "cell_type": "code",
   "source": [
    "using PowerDynamics: read_powergrid, Json, find_operationpoint, Perturbation, Inc, LineFault, simulate\n",
    "using Plots: savefig\n",
    "include(\"plotting.jl\")\n",
    "\n",
    "powergrid = read_powergrid(\"ieee-14-minimal.json\", Json)\n",
    "\n",
    "operationpoint = find_operationpoint(powergrid)"
   ],
   "metadata": {},
   "execution_count": null
  },
  {
   "outputs": [],
   "cell_type": "markdown",
   "source": [
    "simulating a frequency perturbation at node 1"
   ],
   "metadata": {}
  },
  {
   "outputs": [],
   "cell_type": "code",
   "source": [
    "solution1 = simulate(Perturbation(1, :ω, Inc(0.2)), powergrid, operationpoint, timespan = (0.0,10.))\n",
    "plot1 = create_plot(solution1)\n",
    "savefig(plot1,\"ieee14-minimal-omega_perturbation.pdf\")"
   ],
   "metadata": {},
   "execution_count": null
  },
  {
   "outputs": [],
   "cell_type": "markdown",
   "source": [
    "simulating a tripped line between node 1 and 5"
   ],
   "metadata": {}
  },
  {
   "outputs": [],
   "cell_type": "code",
   "source": [
    "solution2 = simulate(LineFault(from=1,to=5), powergrid, operationpoint, timespan = (0.0,10.0))\n",
    "plot2 = create_plot(solution2)\n",
    "savefig(plot2, \"ieee14-minimal-line-fault.pdf\")"
   ],
   "metadata": {},
   "execution_count": null
  },
  {
   "outputs": [],
   "cell_type": "markdown",
   "source": [
    "*This notebook was generated using [Literate.jl](https://github.com/fredrikekre/Literate.jl).*"
   ],
   "metadata": {}
  }
 ],
 "nbformat_minor": 3,
 "metadata": {
  "language_info": {
   "file_extension": ".jl",
   "mimetype": "application/julia",
   "name": "julia",
   "version": "1.2.0"
  },
  "kernelspec": {
   "name": "julia-1.2",
   "display_name": "Julia 1.2.0",
   "language": "julia"
  }
 },
 "nbformat": 4
}
